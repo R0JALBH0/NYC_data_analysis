{
 "cells": [
  {
   "cell_type": "code",
   "execution_count": 12,
   "id": "22519be9",
   "metadata": {},
   "outputs": [],
   "source": [
    "# Importing required libraries\n",
    "import pandas as pd\n",
    "import requests\n",
    "import panel as pn\n",
    "from panel.interact import interact\n",
    "pn.extension()\n",
    "import hvplot.pandas"
   ]
  },
  {
   "cell_type": "code",
   "execution_count": 13,
   "id": "84717e66",
   "metadata": {},
   "outputs": [],
   "source": [
    "# Using request to the API and storing it\n",
    "response = requests.get('https://data.cityofnewyork.us/resource/jb7j-dtam.json?$limit=1000')\n",
    "response1 = requests.get('https://data.cityofnewyork.us/resource/jb7j-dtam.json?$limit=1000&$offset=1001')\n",
    "# Convert the response to a pandas DataFrame\n",
    "data = pd.DataFrame(response.json())\n",
    "data1 = pd.DataFrame(response1.json())\n",
    "data_main = data.append(data1, ignore_index=True)"
   ]
  },
  {
   "cell_type": "code",
   "execution_count": 14,
   "id": "5769dd45",
   "metadata": {},
   "outputs": [],
   "source": [
    "#Minor data cleaning\n",
    "df = data_main.copy()\n",
    "df['leading_cause']=df['leading_cause'].str.split('(').str[0].str.strip() \n",
    "df['deaths'] = pd.to_numeric(df['deaths'],errors='coerce')"
   ]
  },
  {
   "cell_type": "code",
   "execution_count": 15,
   "id": "ee5d5cb5",
   "metadata": {},
   "outputs": [],
   "source": [
    "# putting the values of year from data frame\n",
    "start_year= int(data_main['year'].min())\n",
    "end_year = int(data_main['year'].max())"
   ]
  },
  {
   "cell_type": "code",
   "execution_count": 16,
   "id": "32151c84",
   "metadata": {},
   "outputs": [
    {
     "data": {},
     "metadata": {},
     "output_type": "display_data"
    },
    {
     "data": {},
     "metadata": {},
     "output_type": "display_data"
    },
    {
     "data": {
      "application/vnd.holoviews_exec.v0+json": "",
      "text/html": [
       "<div id='1307'>\n",
       "\n",
       "\n",
       "\n",
       "\n",
       "\n",
       "  <div class=\"bk-root\" id=\"a2d7b1cc-a35a-45f6-b0b8-3d3a261d6c18\" data-root-id=\"1307\"></div>\n",
       "</div>\n",
       "<script type=\"application/javascript\">(function(root) {\n",
       "  function embed_document(root) {\n",
       "    var docs_json = {\"7b2f3179-fb77-434c-a30b-dfd18b5aec5f\":{\"defs\":[{\"extends\":null,\"module\":null,\"name\":\"ReactiveHTML1\",\"overrides\":[],\"properties\":[]},{\"extends\":null,\"module\":null,\"name\":\"FlexBox1\",\"overrides\":[],\"properties\":[{\"default\":\"flex-start\",\"kind\":null,\"name\":\"align_content\"},{\"default\":\"flex-start\",\"kind\":null,\"name\":\"align_items\"},{\"default\":\"row\",\"kind\":null,\"name\":\"flex_direction\"},{\"default\":\"wrap\",\"kind\":null,\"name\":\"flex_wrap\"},{\"default\":\"flex-start\",\"kind\":null,\"name\":\"justify_content\"}]},{\"extends\":null,\"module\":null,\"name\":\"GridStack1\",\"overrides\":[],\"properties\":[{\"default\":\"warn\",\"kind\":null,\"name\":\"mode\"},{\"default\":null,\"kind\":null,\"name\":\"ncols\"},{\"default\":null,\"kind\":null,\"name\":\"nrows\"},{\"default\":true,\"kind\":null,\"name\":\"allow_resize\"},{\"default\":true,\"kind\":null,\"name\":\"allow_drag\"},{\"default\":[],\"kind\":null,\"name\":\"state\"}]},{\"extends\":null,\"module\":null,\"name\":\"click1\",\"overrides\":[],\"properties\":[{\"default\":\"\",\"kind\":null,\"name\":\"terminal_output\"},{\"default\":\"\",\"kind\":null,\"name\":\"debug_name\"},{\"default\":0,\"kind\":null,\"name\":\"clears\"}]},{\"extends\":null,\"module\":null,\"name\":\"NotificationAreaBase1\",\"overrides\":[],\"properties\":[{\"default\":\"bottom-right\",\"kind\":null,\"name\":\"position\"},{\"default\":0,\"kind\":null,\"name\":\"_clear\"}]},{\"extends\":null,\"module\":null,\"name\":\"NotificationArea1\",\"overrides\":[],\"properties\":[{\"default\":[],\"kind\":null,\"name\":\"notifications\"},{\"default\":\"bottom-right\",\"kind\":null,\"name\":\"position\"},{\"default\":0,\"kind\":null,\"name\":\"_clear\"},{\"default\":[{\"background\":\"#ffc107\",\"icon\":{\"className\":\"fas fa-exclamation-triangle\",\"color\":\"white\",\"tagName\":\"i\"},\"type\":\"warning\"},{\"background\":\"#007bff\",\"icon\":{\"className\":\"fas fa-info-circle\",\"color\":\"white\",\"tagName\":\"i\"},\"type\":\"info\"}],\"kind\":null,\"name\":\"types\"}]},{\"extends\":null,\"module\":null,\"name\":\"Notification\",\"overrides\":[],\"properties\":[{\"default\":null,\"kind\":null,\"name\":\"background\"},{\"default\":3000,\"kind\":null,\"name\":\"duration\"},{\"default\":null,\"kind\":null,\"name\":\"icon\"},{\"default\":\"\",\"kind\":null,\"name\":\"message\"},{\"default\":null,\"kind\":null,\"name\":\"notification_type\"},{\"default\":false,\"kind\":null,\"name\":\"_destroyed\"}]},{\"extends\":null,\"module\":null,\"name\":\"TemplateActions1\",\"overrides\":[],\"properties\":[{\"default\":0,\"kind\":null,\"name\":\"open_modal\"},{\"default\":0,\"kind\":null,\"name\":\"close_modal\"}]},{\"extends\":null,\"module\":null,\"name\":\"MaterialTemplateActions1\",\"overrides\":[],\"properties\":[{\"default\":0,\"kind\":null,\"name\":\"open_modal\"},{\"default\":0,\"kind\":null,\"name\":\"close_modal\"}]}],\"roots\":{\"references\":[{\"attributes\":{},\"id\":\"1324\",\"type\":\"CategoricalTicker\"},{\"attributes\":{},\"id\":\"1344\",\"type\":\"Selection\"},{\"attributes\":{\"axis\":{\"id\":\"1323\"},\"coordinates\":null,\"grid_line_color\":null,\"group\":null,\"ticker\":null},\"id\":\"1325\",\"type\":\"Grid\"},{\"attributes\":{},\"id\":\"1331\",\"type\":\"PanTool\"},{\"attributes\":{\"axis_label\":\"Numbers of Deaths\",\"coordinates\":null,\"formatter\":{\"id\":\"1356\"},\"group\":null,\"major_label_policy\":{\"id\":\"1357\"},\"ticker\":{\"id\":\"1327\"}},\"id\":\"1326\",\"type\":\"LinearAxis\"},{\"attributes\":{},\"id\":\"1357\",\"type\":\"AllLabels\"},{\"attributes\":{\"fill_alpha\":{\"value\":0.1},\"fill_color\":{\"value\":\"#30a2da\"},\"hatch_alpha\":{\"value\":0.1},\"hatch_color\":{\"value\":\"#30a2da\"},\"line_alpha\":{\"value\":0.1},\"top\":{\"field\":\"deaths\"},\"width\":{\"value\":0.8},\"x\":{\"field\":\"leading_cause\"}},\"id\":\"1347\",\"type\":\"VBar\"},{\"attributes\":{\"axis\":{\"id\":\"1326\"},\"coordinates\":null,\"dimension\":1,\"grid_line_color\":null,\"group\":null,\"ticker\":null},\"id\":\"1329\",\"type\":\"Grid\"},{\"attributes\":{},\"id\":\"1327\",\"type\":\"BasicTicker\"},{\"attributes\":{},\"id\":\"1354\",\"type\":\"AllLabels\"},{\"attributes\":{},\"id\":\"1332\",\"type\":\"WheelZoomTool\"},{\"attributes\":{\"fill_color\":{\"value\":\"#30a2da\"},\"hatch_color\":{\"value\":\"#30a2da\"},\"top\":{\"field\":\"deaths\"},\"width\":{\"value\":0.8},\"x\":{\"field\":\"leading_cause\"}},\"id\":\"1346\",\"type\":\"VBar\"},{\"attributes\":{\"bottom\":{\"value\":0},\"fill_alpha\":{\"value\":1.0},\"fill_color\":{\"value\":\"#30a2da\"},\"hatch_alpha\":{\"value\":1.0},\"hatch_color\":{\"value\":\"#30a2da\"},\"hatch_scale\":{\"value\":12.0},\"hatch_weight\":{\"value\":1.0},\"line_alpha\":{\"value\":1.0},\"line_cap\":{\"value\":\"butt\"},\"line_color\":{\"value\":\"black\"},\"line_dash\":{\"value\":[]},\"line_dash_offset\":{\"value\":0},\"line_join\":{\"value\":\"bevel\"},\"line_width\":{\"value\":1},\"top\":{\"field\":\"deaths\"},\"width\":{\"value\":0.8},\"x\":{\"field\":\"leading_cause\"}},\"id\":\"1351\",\"type\":\"VBar\"},{\"attributes\":{},\"id\":\"1330\",\"type\":\"SaveTool\"},{\"attributes\":{},\"id\":\"1321\",\"type\":\"LinearScale\"},{\"attributes\":{\"source\":{\"id\":\"1343\"}},\"id\":\"1350\",\"type\":\"CDSView\"},{\"attributes\":{\"overlay\":{\"id\":\"1335\"}},\"id\":\"1333\",\"type\":\"BoxZoomTool\"},{\"attributes\":{},\"id\":\"1334\",\"type\":\"ResetTool\"},{\"attributes\":{\"fill_alpha\":{\"value\":0.2},\"fill_color\":{\"value\":\"#30a2da\"},\"hatch_alpha\":{\"value\":0.2},\"hatch_color\":{\"value\":\"#30a2da\"},\"line_alpha\":{\"value\":0.2},\"top\":{\"field\":\"deaths\"},\"width\":{\"value\":0.8},\"x\":{\"field\":\"leading_cause\"}},\"id\":\"1348\",\"type\":\"VBar\"},{\"attributes\":{\"end\":2014,\"margin\":[5,10,5,10],\"start\":2007,\"title\":\"Year Slider ::\",\"value\":2007},\"id\":\"1309\",\"type\":\"Slider\"},{\"attributes\":{\"bottom_units\":\"screen\",\"coordinates\":null,\"fill_alpha\":0.5,\"fill_color\":\"lightgrey\",\"group\":null,\"left_units\":\"screen\",\"level\":\"overlay\",\"line_alpha\":1.0,\"line_color\":\"black\",\"line_dash\":[4,4],\"line_width\":2,\"right_units\":\"screen\",\"syncable\":false,\"top_units\":\"screen\"},\"id\":\"1335\",\"type\":\"BoxAnnotation\"},{\"attributes\":{\"coordinates\":null,\"data_source\":{\"id\":\"1343\"},\"glyph\":{\"id\":\"1346\"},\"group\":null,\"hover_glyph\":null,\"muted_glyph\":{\"id\":\"1348\"},\"nonselection_glyph\":{\"id\":\"1347\"},\"selection_glyph\":{\"id\":\"1351\"},\"view\":{\"id\":\"1350\"}},\"id\":\"1349\",\"type\":\"GlyphRenderer\"},{\"attributes\":{\"client_comm_id\":\"4f8f07161e7d4ed399325bc52b4654f5\",\"comm_id\":\"e6a3ffe33c3b466abd2508764b967c3e\",\"plot_id\":\"1307\"},\"id\":\"1398\",\"type\":\"panel.models.comm_manager.CommManager\"},{\"attributes\":{},\"id\":\"1319\",\"type\":\"CategoricalScale\"},{\"attributes\":{\"axis_label\":\"Leading Cause - 2007\",\"coordinates\":null,\"formatter\":{\"id\":\"1353\"},\"group\":null,\"major_label_policy\":{\"id\":\"1354\"},\"ticker\":{\"id\":\"1324\"}},\"id\":\"1323\",\"type\":\"CategoricalAxis\"},{\"attributes\":{\"children\":[{\"id\":\"1309\"}],\"margin\":[0,0,0,0],\"name\":\"Column01333\"},\"id\":\"1308\",\"type\":\"Column\"},{\"attributes\":{\"tools\":[{\"id\":\"1313\"},{\"id\":\"1330\"},{\"id\":\"1331\"},{\"id\":\"1332\"},{\"id\":\"1333\"},{\"id\":\"1334\"}]},\"id\":\"1336\",\"type\":\"Toolbar\"},{\"attributes\":{},\"id\":\"1353\",\"type\":\"CategoricalTickFormatter\"},{\"attributes\":{\"factors\":[\"Diseases of Heart\",\"Malignant Neoplasms\",\"All Other Causes\",\"Influenza\",\"Diabetes Mellitus\"],\"tags\":[[[\"leading_cause\",\"leading_cause\",null]]]},\"id\":\"1311\",\"type\":\"FactorRange\"},{\"attributes\":{\"end\":23429.6,\"reset_end\":23429.6,\"reset_start\":0.0,\"tags\":[[[\"deaths\",\"deaths\",null]]]},\"id\":\"1312\",\"type\":\"Range1d\"},{\"attributes\":{},\"id\":\"1356\",\"type\":\"BasicTickFormatter\"},{\"attributes\":{\"data\":{\"deaths\":{\"__ndarray__\":\"AAAAAEDw1EAAAAAAgAHDQAAAAAAAzr9AAAAAAAB4oUAAAAAAAEyYQA==\",\"dtype\":\"float64\",\"order\":\"little\",\"shape\":[5]},\"leading_cause\":[\"Diseases of Heart\",\"Malignant Neoplasms\",\"All Other Causes\",\"Influenza\",\"Diabetes Mellitus\"]},\"selected\":{\"id\":\"1344\"},\"selection_policy\":{\"id\":\"1365\"}},\"id\":\"1343\",\"type\":\"ColumnDataSource\"},{\"attributes\":{\"coordinates\":null,\"group\":null,\"text_color\":\"black\",\"text_font_size\":\"12pt\"},\"id\":\"1315\",\"type\":\"Title\"},{\"attributes\":{},\"id\":\"1365\",\"type\":\"UnionRenderers\"},{\"attributes\":{\"callback\":null,\"renderers\":[{\"id\":\"1349\"}],\"tags\":[\"hv_created\"],\"tooltips\":[[\"leading_cause\",\"@{leading_cause}\"],[\"deaths\",\"@{deaths}\"]]},\"id\":\"1313\",\"type\":\"HoverTool\"},{\"attributes\":{\"children\":[{\"id\":\"1308\"},{\"id\":\"1310\"}],\"margin\":[0,0,0,0],\"name\":\"Column01246\"},\"id\":\"1307\",\"type\":\"Column\"},{\"attributes\":{\"children\":[{\"id\":\"1314\"}],\"margin\":[0,0,0,0],\"name\":\"Row01332\"},\"id\":\"1310\",\"type\":\"Row\"},{\"attributes\":{\"below\":[{\"id\":\"1323\"}],\"center\":[{\"id\":\"1325\"},{\"id\":\"1329\"}],\"height\":500,\"left\":[{\"id\":\"1326\"}],\"margin\":[5,5,5,5],\"min_border_bottom\":10,\"min_border_left\":10,\"min_border_right\":10,\"min_border_top\":10,\"renderers\":[{\"id\":\"1349\"}],\"sizing_mode\":\"fixed\",\"title\":{\"id\":\"1315\"},\"toolbar\":{\"id\":\"1336\"},\"width\":800,\"x_range\":{\"id\":\"1311\"},\"x_scale\":{\"id\":\"1319\"},\"y_range\":{\"id\":\"1312\"},\"y_scale\":{\"id\":\"1321\"}},\"id\":\"1314\",\"subtype\":\"Figure\",\"type\":\"Plot\"}],\"root_ids\":[\"1307\",\"1398\"]},\"title\":\"Bokeh Application\",\"version\":\"2.4.1\"}};\n",
       "    var render_items = [{\"docid\":\"7b2f3179-fb77-434c-a30b-dfd18b5aec5f\",\"root_ids\":[\"1307\"],\"roots\":{\"1307\":\"a2d7b1cc-a35a-45f6-b0b8-3d3a261d6c18\"}}];\n",
       "    root.Bokeh.embed.embed_items_notebook(docs_json, render_items);\n",
       "    for (const render_item of render_items) {\n",
       "      for (const root_id of render_item.root_ids) {\n",
       "\tconst id_el = document.getElementById(root_id)\n",
       "\tif (id_el.children.length && (id_el.children[0].className === 'bk-root')) {\n",
       "\t  const root_el = id_el.children[0]\n",
       "\t  root_el.id = root_el.id + '-rendered'\n",
       "\t}\n",
       "      }\n",
       "    }\n",
       "  }\n",
       "  if (root.Bokeh !== undefined && root.Bokeh.Panel !== undefined) {\n",
       "    embed_document(root);\n",
       "  } else {\n",
       "    var attempts = 0;\n",
       "    var timer = setInterval(function(root) {\n",
       "      if (root.Bokeh !== undefined && root.Bokeh.Panel !== undefined) {\n",
       "        clearInterval(timer);\n",
       "        embed_document(root);\n",
       "      } else if (document.readyState == \"complete\") {\n",
       "        attempts++;\n",
       "        if (attempts > 200) {\n",
       "          clearInterval(timer);\n",
       "          console.log(\"Bokeh: ERROR: Unable to run BokehJS code because BokehJS library is missing\");\n",
       "        }\n",
       "      }\n",
       "    }, 25, root)\n",
       "  }\n",
       "})(window);</script>"
      ],
      "text/plain": [
       "Column\n",
       "    [0] Column\n",
       "        [0] IntSlider(end=2014, name='Year Slider ::', start=2007, value=2007)\n",
       "    [1] Row\n",
       "        [0] HoloViews(Bars, name='interactive01245')"
      ]
     },
     "execution_count": 16,
     "metadata": {
      "application/vnd.holoviews_exec.v0+json": {
       "id": "1307"
      }
     },
     "output_type": "execute_result"
    }
   ],
   "source": [
    "#slider widget\n",
    "year_slider = pn.widgets.IntSlider(name='Year Slider ::', start = start_year ,end= end_year, step=1, value=2007)\n",
    "#function to create bar diagram with year slider\n",
    "def df_year(y):\n",
    "    df_year =  df[df['year']== str(y)]\n",
    "    bar_year = df_year[['leading_cause','deaths']]\n",
    "    bar_year = bar_year.groupby(['leading_cause']).sum().sort_values(by='deaths', ascending=False).head(5)\n",
    "    return bar_year.hvplot.bar(y = 'deaths',height=500,width=800,xlabel=f'Leading Cause - {y}', ylabel= 'Numbers of Deaths')\n",
    "interact(df_year,y= year_slider)"
   ]
  },
  {
   "cell_type": "code",
   "execution_count": 17,
   "id": "2c2831dd",
   "metadata": {},
   "outputs": [
    {
     "data": {},
     "metadata": {},
     "output_type": "display_data"
    },
    {
     "data": {
      "application/vnd.holoviews_exec.v0+json": "",
      "text/html": [
       "<div id='1449'>\n",
       "\n",
       "\n",
       "\n",
       "\n",
       "\n",
       "  <div class=\"bk-root\" id=\"159411fa-0ead-4198-964e-c009640c6642\" data-root-id=\"1449\"></div>\n",
       "</div>\n",
       "<script type=\"application/javascript\">(function(root) {\n",
       "  function embed_document(root) {\n",
       "    var docs_json = {\"38f754e1-f046-4095-a153-e9eef238c002\":{\"defs\":[{\"extends\":null,\"module\":null,\"name\":\"ReactiveHTML1\",\"overrides\":[],\"properties\":[]},{\"extends\":null,\"module\":null,\"name\":\"FlexBox1\",\"overrides\":[],\"properties\":[{\"default\":\"flex-start\",\"kind\":null,\"name\":\"align_content\"},{\"default\":\"flex-start\",\"kind\":null,\"name\":\"align_items\"},{\"default\":\"row\",\"kind\":null,\"name\":\"flex_direction\"},{\"default\":\"wrap\",\"kind\":null,\"name\":\"flex_wrap\"},{\"default\":\"flex-start\",\"kind\":null,\"name\":\"justify_content\"}]},{\"extends\":null,\"module\":null,\"name\":\"GridStack1\",\"overrides\":[],\"properties\":[{\"default\":\"warn\",\"kind\":null,\"name\":\"mode\"},{\"default\":null,\"kind\":null,\"name\":\"ncols\"},{\"default\":null,\"kind\":null,\"name\":\"nrows\"},{\"default\":true,\"kind\":null,\"name\":\"allow_resize\"},{\"default\":true,\"kind\":null,\"name\":\"allow_drag\"},{\"default\":[],\"kind\":null,\"name\":\"state\"}]},{\"extends\":null,\"module\":null,\"name\":\"click1\",\"overrides\":[],\"properties\":[{\"default\":\"\",\"kind\":null,\"name\":\"terminal_output\"},{\"default\":\"\",\"kind\":null,\"name\":\"debug_name\"},{\"default\":0,\"kind\":null,\"name\":\"clears\"}]},{\"extends\":null,\"module\":null,\"name\":\"NotificationAreaBase1\",\"overrides\":[],\"properties\":[{\"default\":\"bottom-right\",\"kind\":null,\"name\":\"position\"},{\"default\":0,\"kind\":null,\"name\":\"_clear\"}]},{\"extends\":null,\"module\":null,\"name\":\"NotificationArea1\",\"overrides\":[],\"properties\":[{\"default\":[],\"kind\":null,\"name\":\"notifications\"},{\"default\":\"bottom-right\",\"kind\":null,\"name\":\"position\"},{\"default\":0,\"kind\":null,\"name\":\"_clear\"},{\"default\":[{\"background\":\"#ffc107\",\"icon\":{\"className\":\"fas fa-exclamation-triangle\",\"color\":\"white\",\"tagName\":\"i\"},\"type\":\"warning\"},{\"background\":\"#007bff\",\"icon\":{\"className\":\"fas fa-info-circle\",\"color\":\"white\",\"tagName\":\"i\"},\"type\":\"info\"}],\"kind\":null,\"name\":\"types\"}]},{\"extends\":null,\"module\":null,\"name\":\"Notification\",\"overrides\":[],\"properties\":[{\"default\":null,\"kind\":null,\"name\":\"background\"},{\"default\":3000,\"kind\":null,\"name\":\"duration\"},{\"default\":null,\"kind\":null,\"name\":\"icon\"},{\"default\":\"\",\"kind\":null,\"name\":\"message\"},{\"default\":null,\"kind\":null,\"name\":\"notification_type\"},{\"default\":false,\"kind\":null,\"name\":\"_destroyed\"}]},{\"extends\":null,\"module\":null,\"name\":\"TemplateActions1\",\"overrides\":[],\"properties\":[{\"default\":0,\"kind\":null,\"name\":\"open_modal\"},{\"default\":0,\"kind\":null,\"name\":\"close_modal\"}]},{\"extends\":null,\"module\":null,\"name\":\"MaterialTemplateActions1\",\"overrides\":[],\"properties\":[{\"default\":0,\"kind\":null,\"name\":\"open_modal\"},{\"default\":0,\"kind\":null,\"name\":\"close_modal\"}]}],\"roots\":{\"references\":[{\"attributes\":{\"children\":[{\"id\":\"1453\"}],\"margin\":[0,0,0,0],\"name\":\"Row01358\"},\"id\":\"1452\",\"type\":\"Row\"},{\"attributes\":{\"children\":[{\"id\":\"1450\"},{\"id\":\"1452\"}],\"margin\":[0,0,0,0],\"name\":\"Column01354\"},\"id\":\"1449\",\"type\":\"Column\"},{\"attributes\":{\"margin\":[5,5,5,5],\"name\":\"interactive01353\",\"text\":\"&lt;table border=&quot;0&quot; class=&quot;dataframe panel-df&quot;&gt;\\n  &lt;thead&gt;\\n    &lt;tr style=&quot;text-align: right;&quot;&gt;\\n      &lt;th&gt;&lt;/th&gt;\\n      &lt;th&gt;&lt;/th&gt;\\n      &lt;th&gt;deaths&lt;/th&gt;\\n    &lt;/tr&gt;\\n    &lt;tr&gt;\\n      &lt;th&gt;leading_cause&lt;/th&gt;\\n      &lt;th&gt;sex&lt;/th&gt;\\n      &lt;th&gt;&lt;/th&gt;\\n    &lt;/tr&gt;\\n  &lt;/thead&gt;\\n  &lt;tbody&gt;\\n    &lt;tr&gt;\\n      &lt;th rowspan=&quot;2&quot; valign=&quot;top&quot;&gt;Diseases of Heart&lt;/th&gt;\\n      &lt;th&gt;F&lt;/th&gt;\\n      &lt;td&gt;11743.0&lt;/td&gt;\\n    &lt;/tr&gt;\\n    &lt;tr&gt;\\n      &lt;th&gt;M&lt;/th&gt;\\n      &lt;td&gt;9698.0&lt;/td&gt;\\n    &lt;/tr&gt;\\n    &lt;tr&gt;\\n      &lt;th&gt;Malignant Neoplasms&lt;/th&gt;\\n      &lt;th&gt;M&lt;/th&gt;\\n      &lt;td&gt;6494.0&lt;/td&gt;\\n    &lt;/tr&gt;\\n    &lt;tr&gt;\\n      &lt;th rowspan=&quot;2&quot; valign=&quot;top&quot;&gt;All Other Causes&lt;/th&gt;\\n      &lt;th&gt;M&lt;/th&gt;\\n      &lt;td&gt;4188.0&lt;/td&gt;\\n    &lt;/tr&gt;\\n    &lt;tr&gt;\\n      &lt;th&gt;F&lt;/th&gt;\\n      &lt;td&gt;3954.0&lt;/td&gt;\\n    &lt;/tr&gt;\\n    &lt;tr&gt;\\n      &lt;th&gt;Malignant Neoplasms&lt;/th&gt;\\n      &lt;th&gt;F&lt;/th&gt;\\n      &lt;td&gt;3237.0&lt;/td&gt;\\n    &lt;/tr&gt;\\n  &lt;/tbody&gt;\\n&lt;/table&gt;\"},\"id\":\"1453\",\"type\":\"panel.models.markup.HTML\"},{\"attributes\":{\"end\":2014,\"margin\":[5,10,5,10],\"start\":2007,\"title\":\"Year Slider ::\",\"value\":2007},\"id\":\"1451\",\"type\":\"Slider\"},{\"attributes\":{\"children\":[{\"id\":\"1451\"}],\"margin\":[0,0,0,0],\"name\":\"Column01359\"},\"id\":\"1450\",\"type\":\"Column\"},{\"attributes\":{\"client_comm_id\":\"f9e8e0c41a8340efa32346e7c150d841\",\"comm_id\":\"1abefb4253b342af9b4aaf3d20af8d87\",\"plot_id\":\"1449\"},\"id\":\"1454\",\"type\":\"panel.models.comm_manager.CommManager\"}],\"root_ids\":[\"1449\",\"1454\"]},\"title\":\"Bokeh Application\",\"version\":\"2.4.1\"}};\n",
       "    var render_items = [{\"docid\":\"38f754e1-f046-4095-a153-e9eef238c002\",\"root_ids\":[\"1449\"],\"roots\":{\"1449\":\"159411fa-0ead-4198-964e-c009640c6642\"}}];\n",
       "    root.Bokeh.embed.embed_items_notebook(docs_json, render_items);\n",
       "    for (const render_item of render_items) {\n",
       "      for (const root_id of render_item.root_ids) {\n",
       "\tconst id_el = document.getElementById(root_id)\n",
       "\tif (id_el.children.length && (id_el.children[0].className === 'bk-root')) {\n",
       "\t  const root_el = id_el.children[0]\n",
       "\t  root_el.id = root_el.id + '-rendered'\n",
       "\t}\n",
       "      }\n",
       "    }\n",
       "  }\n",
       "  if (root.Bokeh !== undefined && root.Bokeh.Panel !== undefined) {\n",
       "    embed_document(root);\n",
       "  } else {\n",
       "    var attempts = 0;\n",
       "    var timer = setInterval(function(root) {\n",
       "      if (root.Bokeh !== undefined && root.Bokeh.Panel !== undefined) {\n",
       "        clearInterval(timer);\n",
       "        embed_document(root);\n",
       "      } else if (document.readyState == \"complete\") {\n",
       "        attempts++;\n",
       "        if (attempts > 200) {\n",
       "          clearInterval(timer);\n",
       "          console.log(\"Bokeh: ERROR: Unable to run BokehJS code because BokehJS library is missing\");\n",
       "        }\n",
       "      }\n",
       "    }, 25, root)\n",
       "  }\n",
       "})(window);</script>"
      ],
      "text/plain": [
       "Column\n",
       "    [0] Column\n",
       "        [0] IntSlider(end=2014, name='Year Slider ::', start=2007, value=2007)\n",
       "    [1] Row\n",
       "        [0] DataFrame(DataFrame, name='interactive01353')"
      ]
     },
     "execution_count": 17,
     "metadata": {
      "application/vnd.holoviews_exec.v0+json": {
       "id": "1449"
      }
     },
     "output_type": "execute_result"
    }
   ],
   "source": [
    "#function to create df with function slider\n",
    "def chart(chart_slider):\n",
    "    df_year =  df[df['year']== str(chart_slider)]\n",
    "    bar_year_sex = df_year[['leading_cause','sex','deaths']].groupby(['leading_cause','sex']).sum('deaths').sort_values(by=['deaths'], ascending=False).head(6)\n",
    "    return bar_year_sex\n",
    "interact(chart,chart_slider=year_slider)"
   ]
  },
  {
   "cell_type": "code",
   "execution_count": 18,
   "id": "d9d51b09",
   "metadata": {},
   "outputs": [],
   "source": [
    "#creating lists of all races and causes\n",
    "race_cols = list(df['race_ethnicity'].unique())\n",
    "cause_cols = list(df['leading_cause'].unique())"
   ]
  },
  {
   "cell_type": "code",
   "execution_count": 19,
   "id": "dec18fa0",
   "metadata": {},
   "outputs": [],
   "source": [
    "# function to select race and cause\n",
    "def df_race_cause(select_race,select_cause):\n",
    "    df_race = df[df['race_ethnicity']== str(select_race)] \n",
    "    df_race_cause=df_race[df_race['leading_cause']== str(select_cause)]\n",
    "    df_race_cause = df_race_cause[['year','deaths']].groupby(['year']).sum()\n",
    "    return df_race_cause.hvplot('year','deaths',height= 400, width= 600)"
   ]
  },
  {
   "cell_type": "code",
   "execution_count": 20,
   "id": "132c3538",
   "metadata": {},
   "outputs": [],
   "source": [
    "#function to select only race\n",
    "def df_race(select_race):\n",
    "        df_race = df[df['race_ethnicity']== str(select_race)]\n",
    "        df_yearly = df_race[['year','deaths']].groupby('year').sum()\n",
    "        return df_yearly.hvplot('year','deaths',height= 400, width= 600)"
   ]
  },
  {
   "cell_type": "code",
   "execution_count": 21,
   "id": "9ac12396",
   "metadata": {},
   "outputs": [
    {
     "data": {},
     "metadata": {},
     "output_type": "display_data"
    },
    {
     "data": {},
     "metadata": {},
     "output_type": "display_data"
    },
    {
     "data": {
      "application/vnd.holoviews_exec.v0+json": "",
      "text/html": [
       "<div id='1455'>\n",
       "\n",
       "\n",
       "\n",
       "\n",
       "\n",
       "  <div class=\"bk-root\" id=\"cb40c94a-9b8d-45ed-bb7e-21ff950a0d50\" data-root-id=\"1455\"></div>\n",
       "</div>\n",
       "<script type=\"application/javascript\">(function(root) {\n",
       "  function embed_document(root) {\n",
       "    var docs_json = {\"7f006591-6a48-4bca-b968-5fc1a87adcb9\":{\"defs\":[{\"extends\":null,\"module\":null,\"name\":\"ReactiveHTML1\",\"overrides\":[],\"properties\":[]},{\"extends\":null,\"module\":null,\"name\":\"FlexBox1\",\"overrides\":[],\"properties\":[{\"default\":\"flex-start\",\"kind\":null,\"name\":\"align_content\"},{\"default\":\"flex-start\",\"kind\":null,\"name\":\"align_items\"},{\"default\":\"row\",\"kind\":null,\"name\":\"flex_direction\"},{\"default\":\"wrap\",\"kind\":null,\"name\":\"flex_wrap\"},{\"default\":\"flex-start\",\"kind\":null,\"name\":\"justify_content\"}]},{\"extends\":null,\"module\":null,\"name\":\"GridStack1\",\"overrides\":[],\"properties\":[{\"default\":\"warn\",\"kind\":null,\"name\":\"mode\"},{\"default\":null,\"kind\":null,\"name\":\"ncols\"},{\"default\":null,\"kind\":null,\"name\":\"nrows\"},{\"default\":true,\"kind\":null,\"name\":\"allow_resize\"},{\"default\":true,\"kind\":null,\"name\":\"allow_drag\"},{\"default\":[],\"kind\":null,\"name\":\"state\"}]},{\"extends\":null,\"module\":null,\"name\":\"click1\",\"overrides\":[],\"properties\":[{\"default\":\"\",\"kind\":null,\"name\":\"terminal_output\"},{\"default\":\"\",\"kind\":null,\"name\":\"debug_name\"},{\"default\":0,\"kind\":null,\"name\":\"clears\"}]},{\"extends\":null,\"module\":null,\"name\":\"NotificationAreaBase1\",\"overrides\":[],\"properties\":[{\"default\":\"bottom-right\",\"kind\":null,\"name\":\"position\"},{\"default\":0,\"kind\":null,\"name\":\"_clear\"}]},{\"extends\":null,\"module\":null,\"name\":\"NotificationArea1\",\"overrides\":[],\"properties\":[{\"default\":[],\"kind\":null,\"name\":\"notifications\"},{\"default\":\"bottom-right\",\"kind\":null,\"name\":\"position\"},{\"default\":0,\"kind\":null,\"name\":\"_clear\"},{\"default\":[{\"background\":\"#ffc107\",\"icon\":{\"className\":\"fas fa-exclamation-triangle\",\"color\":\"white\",\"tagName\":\"i\"},\"type\":\"warning\"},{\"background\":\"#007bff\",\"icon\":{\"className\":\"fas fa-info-circle\",\"color\":\"white\",\"tagName\":\"i\"},\"type\":\"info\"}],\"kind\":null,\"name\":\"types\"}]},{\"extends\":null,\"module\":null,\"name\":\"Notification\",\"overrides\":[],\"properties\":[{\"default\":null,\"kind\":null,\"name\":\"background\"},{\"default\":3000,\"kind\":null,\"name\":\"duration\"},{\"default\":null,\"kind\":null,\"name\":\"icon\"},{\"default\":\"\",\"kind\":null,\"name\":\"message\"},{\"default\":null,\"kind\":null,\"name\":\"notification_type\"},{\"default\":false,\"kind\":null,\"name\":\"_destroyed\"}]},{\"extends\":null,\"module\":null,\"name\":\"TemplateActions1\",\"overrides\":[],\"properties\":[{\"default\":0,\"kind\":null,\"name\":\"open_modal\"},{\"default\":0,\"kind\":null,\"name\":\"close_modal\"}]},{\"extends\":null,\"module\":null,\"name\":\"MaterialTemplateActions1\",\"overrides\":[],\"properties\":[{\"default\":0,\"kind\":null,\"name\":\"open_modal\"},{\"default\":0,\"kind\":null,\"name\":\"close_modal\"}]}],\"roots\":{\"references\":[{\"attributes\":{},\"id\":\"1471\",\"type\":\"CategoricalScale\"},{\"attributes\":{},\"id\":\"1506\",\"type\":\"AllLabels\"},{\"attributes\":{\"end\":550.0,\"reset_end\":550.0,\"reset_start\":106.0,\"start\":106.0,\"tags\":[[[\"deaths\",\"deaths\",null]]]},\"id\":\"1464\",\"type\":\"Range1d\"},{\"attributes\":{\"callback\":null,\"renderers\":[{\"id\":\"1501\"}],\"tags\":[\"hv_created\"],\"tooltips\":[[\"year\",\"@{year}\"],[\"deaths\",\"@{deaths}\"]]},\"id\":\"1465\",\"type\":\"HoverTool\"},{\"attributes\":{\"coordinates\":null,\"data_source\":{\"id\":\"1495\"},\"glyph\":{\"id\":\"1498\"},\"group\":null,\"hover_glyph\":null,\"muted_glyph\":{\"id\":\"1500\"},\"nonselection_glyph\":{\"id\":\"1499\"},\"selection_glyph\":{\"id\":\"1503\"},\"view\":{\"id\":\"1502\"}},\"id\":\"1501\",\"type\":\"GlyphRenderer\"},{\"attributes\":{},\"id\":\"1508\",\"type\":\"BasicTickFormatter\"},{\"attributes\":{\"factors\":[\"2007\",\"2008\",\"2009\",\"2010\",\"2011\",\"2012\",\"2013\",\"2014\"],\"tags\":[[[\"year\",\"year\",null]]]},\"id\":\"1463\",\"type\":\"FactorRange\"},{\"attributes\":{},\"id\":\"1509\",\"type\":\"AllLabels\"},{\"attributes\":{\"bottom_units\":\"screen\",\"coordinates\":null,\"fill_alpha\":0.5,\"fill_color\":\"lightgrey\",\"group\":null,\"left_units\":\"screen\",\"level\":\"overlay\",\"line_alpha\":1.0,\"line_color\":\"black\",\"line_dash\":[4,4],\"line_width\":2,\"right_units\":\"screen\",\"syncable\":false,\"top_units\":\"screen\"},\"id\":\"1487\",\"type\":\"BoxAnnotation\"},{\"attributes\":{\"below\":[{\"id\":\"1475\"}],\"center\":[{\"id\":\"1477\"},{\"id\":\"1481\"}],\"height\":400,\"left\":[{\"id\":\"1478\"}],\"margin\":[5,5,5,5],\"min_border_bottom\":10,\"min_border_left\":10,\"min_border_right\":10,\"min_border_top\":10,\"renderers\":[{\"id\":\"1501\"}],\"sizing_mode\":\"fixed\",\"title\":{\"id\":\"1467\"},\"toolbar\":{\"id\":\"1488\"},\"x_range\":{\"id\":\"1463\"},\"x_scale\":{\"id\":\"1471\"},\"y_range\":{\"id\":\"1464\"},\"y_scale\":{\"id\":\"1473\"}},\"id\":\"1466\",\"subtype\":\"Figure\",\"type\":\"Plot\"},{\"attributes\":{\"data\":{\"deaths\":{\"__ndarray__\":\"AAAAAADgaEAAAAAAAEBlQAAAAAAA4GFAAAAAAADAbkAAAAAAALBwQAAAAAAAoG5AAAAAAABAdkAAAAAAAAiAQA==\",\"dtype\":\"float64\",\"order\":\"little\",\"shape\":[8]},\"year\":[\"2007\",\"2008\",\"2009\",\"2010\",\"2011\",\"2012\",\"2013\",\"2014\"]},\"selected\":{\"id\":\"1496\"},\"selection_policy\":{\"id\":\"1517\"}},\"id\":\"1495\",\"type\":\"ColumnDataSource\"},{\"attributes\":{},\"id\":\"1505\",\"type\":\"CategoricalTickFormatter\"},{\"attributes\":{\"line_color\":\"#30a2da\",\"line_width\":2,\"x\":{\"field\":\"year\"},\"y\":{\"field\":\"deaths\"}},\"id\":\"1503\",\"type\":\"Line\"},{\"attributes\":{\"labels\":[\"Select Cause of Death\"],\"margin\":[5,10,5,10]},\"id\":\"1457\",\"type\":\"CheckboxGroup\"},{\"attributes\":{\"children\":[{\"id\":\"1457\"}],\"margin\":[0,0,0,0],\"name\":\"Column01363\"},\"id\":\"1456\",\"type\":\"Column\"},{\"attributes\":{\"tools\":[{\"id\":\"1465\"},{\"id\":\"1482\"},{\"id\":\"1483\"},{\"id\":\"1484\"},{\"id\":\"1485\"},{\"id\":\"1486\"}]},\"id\":\"1488\",\"type\":\"Toolbar\"},{\"attributes\":{\"children\":[{\"id\":\"1459\"}],\"margin\":[0,0,0,0],\"name\":\"Row01368\"},\"id\":\"1458\",\"type\":\"Row\"},{\"attributes\":{\"line_alpha\":0.1,\"line_color\":\"#30a2da\",\"line_width\":2,\"x\":{\"field\":\"year\"},\"y\":{\"field\":\"deaths\"}},\"id\":\"1499\",\"type\":\"Line\"},{\"attributes\":{\"axis\":{\"id\":\"1475\"},\"coordinates\":null,\"grid_line_color\":null,\"group\":null,\"ticker\":null},\"id\":\"1477\",\"type\":\"Grid\"},{\"attributes\":{\"children\":[{\"id\":\"1456\"},{\"id\":\"1458\"}],\"margin\":[0,0,0,0],\"name\":\"Column01460\"},\"id\":\"1455\",\"type\":\"Column\"},{\"attributes\":{\"line_color\":\"#30a2da\",\"line_width\":2,\"x\":{\"field\":\"year\"},\"y\":{\"field\":\"deaths\"}},\"id\":\"1498\",\"type\":\"Line\"},{\"attributes\":{\"source\":{\"id\":\"1495\"}},\"id\":\"1502\",\"type\":\"CDSView\"},{\"attributes\":{\"coordinates\":null,\"group\":null,\"text_color\":\"black\",\"text_font_size\":\"12pt\"},\"id\":\"1467\",\"type\":\"Title\"},{\"attributes\":{},\"id\":\"1476\",\"type\":\"CategoricalTicker\"},{\"attributes\":{},\"id\":\"1473\",\"type\":\"LinearScale\"},{\"attributes\":{\"axis_label\":\"year\",\"coordinates\":null,\"formatter\":{\"id\":\"1505\"},\"group\":null,\"major_label_policy\":{\"id\":\"1506\"},\"ticker\":{\"id\":\"1476\"}},\"id\":\"1475\",\"type\":\"CategoricalAxis\"},{\"attributes\":{\"children\":[{\"id\":\"1460\"},{\"id\":\"1462\"}],\"margin\":[0,0,0,0],\"name\":\"Column01370\"},\"id\":\"1459\",\"type\":\"Column\"},{\"attributes\":{\"axis_label\":\"deaths\",\"coordinates\":null,\"formatter\":{\"id\":\"1508\"},\"group\":null,\"major_label_policy\":{\"id\":\"1509\"},\"ticker\":{\"id\":\"1479\"}},\"id\":\"1478\",\"type\":\"LinearAxis\"},{\"attributes\":{\"line_alpha\":0.2,\"line_color\":\"#30a2da\",\"line_width\":2,\"x\":{\"field\":\"year\"},\"y\":{\"field\":\"deaths\"}},\"id\":\"1500\",\"type\":\"Line\"},{\"attributes\":{\"axis\":{\"id\":\"1478\"},\"coordinates\":null,\"dimension\":1,\"grid_line_color\":null,\"group\":null,\"ticker\":null},\"id\":\"1481\",\"type\":\"Grid\"},{\"attributes\":{\"client_comm_id\":\"b5c9b5b479f6483d976e3ca1cba8915f\",\"comm_id\":\"f2716e3ab2214f2499cbe13dfc56e513\",\"plot_id\":\"1455\"},\"id\":\"1550\",\"type\":\"panel.models.comm_manager.CommManager\"},{\"attributes\":{},\"id\":\"1479\",\"type\":\"BasicTicker\"},{\"attributes\":{},\"id\":\"1483\",\"type\":\"PanTool\"},{\"attributes\":{},\"id\":\"1484\",\"type\":\"WheelZoomTool\"},{\"attributes\":{\"children\":[{\"id\":\"1466\"}],\"margin\":[0,0,0,0],\"name\":\"Row01457\"},\"id\":\"1462\",\"type\":\"Row\"},{\"attributes\":{},\"id\":\"1482\",\"type\":\"SaveTool\"},{\"attributes\":{\"children\":[{\"id\":\"1461\"}],\"margin\":[0,0,0,0],\"name\":\"Column01458\"},\"id\":\"1460\",\"type\":\"Column\"},{\"attributes\":{},\"id\":\"1496\",\"type\":\"Selection\"},{\"attributes\":{\"overlay\":{\"id\":\"1487\"}},\"id\":\"1485\",\"type\":\"BoxZoomTool\"},{\"attributes\":{\"margin\":[5,10,5,10],\"options\":[\"Other Race/ Ethnicity\",\"Hispanic\",\"Not Stated/Unknown\",\"Asian and Pacific Islander\",\"Black Non-Hispanic\",\"White Non-Hispanic\"],\"title\":\"select_race\",\"value\":\"Other Race/ Ethnicity\"},\"id\":\"1461\",\"type\":\"panel.models.widgets.CustomSelect\"},{\"attributes\":{},\"id\":\"1486\",\"type\":\"ResetTool\"},{\"attributes\":{},\"id\":\"1517\",\"type\":\"UnionRenderers\"}],\"root_ids\":[\"1455\",\"1550\"]},\"title\":\"Bokeh Application\",\"version\":\"2.4.1\"}};\n",
       "    var render_items = [{\"docid\":\"7f006591-6a48-4bca-b968-5fc1a87adcb9\",\"root_ids\":[\"1455\"],\"roots\":{\"1455\":\"cb40c94a-9b8d-45ed-bb7e-21ff950a0d50\"}}];\n",
       "    root.Bokeh.embed.embed_items_notebook(docs_json, render_items);\n",
       "    for (const render_item of render_items) {\n",
       "      for (const root_id of render_item.root_ids) {\n",
       "\tconst id_el = document.getElementById(root_id)\n",
       "\tif (id_el.children.length && (id_el.children[0].className === 'bk-root')) {\n",
       "\t  const root_el = id_el.children[0]\n",
       "\t  root_el.id = root_el.id + '-rendered'\n",
       "\t}\n",
       "      }\n",
       "    }\n",
       "  }\n",
       "  if (root.Bokeh !== undefined && root.Bokeh.Panel !== undefined) {\n",
       "    embed_document(root);\n",
       "  } else {\n",
       "    var attempts = 0;\n",
       "    var timer = setInterval(function(root) {\n",
       "      if (root.Bokeh !== undefined && root.Bokeh.Panel !== undefined) {\n",
       "        clearInterval(timer);\n",
       "        embed_document(root);\n",
       "      } else if (document.readyState == \"complete\") {\n",
       "        attempts++;\n",
       "        if (attempts > 200) {\n",
       "          clearInterval(timer);\n",
       "          console.log(\"Bokeh: ERROR: Unable to run BokehJS code because BokehJS library is missing\");\n",
       "        }\n",
       "      }\n",
       "    }, 25, root)\n",
       "  }\n",
       "})(window);</script>"
      ],
      "text/plain": [
       "Column\n",
       "    [0] Column\n",
       "        [0] Checkbox(name='Select Cause of Death')\n",
       "    [1] ParamFunction(function)"
      ]
     },
     "execution_count": 21,
     "metadata": {
      "application/vnd.holoviews_exec.v0+json": {
       "id": "1455"
      }
     },
     "output_type": "execute_result"
    }
   ],
   "source": [
    "#creating a checkbox \n",
    "cause_checkbox = pn.widgets.Checkbox(name='Select Cause of Death')\n",
    "\n",
    "@pn.depends(cause_checkbox)\n",
    "#function to select and deselect interactive button\n",
    "def cause_check(x):\n",
    "    if x == True:\n",
    "        return interact(df_race_cause, select_race = race_cols, select_cause = cause_cols)\n",
    "    else:\n",
    "        return interact(df_race, select_race = race_cols)\n",
    "        \n",
    "pn.Column(pn.Column(cause_checkbox),cause_check)"
   ]
  },
  {
   "cell_type": "code",
   "execution_count": 23,
   "id": "7ed4e7a0",
   "metadata": {},
   "outputs": [],
   "source": [
    "# Layout using Template\n",
    "template = pn.template.FastListTemplate(\n",
    "    title='CAUSES OF DEATH - NYC dashboard', \n",
    "    main=[pn.Row(pn.Column(cause_check),cause_checkbox),\n",
    "          pn.Row(pn.Column(interact(df_year,y= year_slider)),\n",
    "                 pn.Column(interact(chart,chart_slider=year_slider)))],\n",
    "    accent_base_color=\"#88d8b0\",\n",
    "    header_background=\"#88d8b0\",\n",
    ")\n",
    "# template.show()\n",
    "template.servable();"
   ]
  },
  {
   "cell_type": "code",
   "execution_count": null,
   "id": "91b5f937-50df-4088-86ab-473b64f7efb8",
   "metadata": {},
   "outputs": [],
   "source": []
  }
 ],
 "metadata": {
  "kernelspec": {
   "display_name": "Python 3 (ipykernel)",
   "language": "python",
   "name": "python3"
  },
  "language_info": {
   "codemirror_mode": {
    "name": "ipython",
    "version": 3
   },
   "file_extension": ".py",
   "mimetype": "text/x-python",
   "name": "python",
   "nbconvert_exporter": "python",
   "pygments_lexer": "ipython3",
   "version": "3.9.7"
  }
 },
 "nbformat": 4,
 "nbformat_minor": 5
}
